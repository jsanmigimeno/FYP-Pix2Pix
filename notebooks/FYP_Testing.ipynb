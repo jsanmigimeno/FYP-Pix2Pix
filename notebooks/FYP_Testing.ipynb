{
  "nbformat": 4,
  "nbformat_minor": 0,
  "metadata": {
    "colab": {
      "name": "FYP Testing",
      "version": "0.3.2",
      "provenance": [],
      "collapsed_sections": [],
      "include_colab_link": true
    },
    "kernelspec": {
      "name": "python3",
      "display_name": "Python 3"
    },
    "accelerator": "GPU"
  },
  "cells": [
    {
      "cell_type": "markdown",
      "metadata": {
        "id": "view-in-github",
        "colab_type": "text"
      },
      "source": [
        "<a href=\"https://colab.research.google.com/github/jsanmigimeno/FYP-Pix2Pix/blob/master/notebooks/FYP_Testing.ipynb\" target=\"_parent\"><img src=\"https://colab.research.google.com/assets/colab-badge.svg\" alt=\"Open In Colab\"/></a>"
      ]
    },
    {
      "cell_type": "markdown",
      "metadata": {
        "id": "eM8xwGKx0cLA",
        "colab_type": "text"
      },
      "source": [
        "# Mount Google Drive\n",
        "By default, generated files are designed to be saved to a folder named *FYP* on a mounted Google Drive account. If it is not desired to use a Google Drive account, change the variable *rootDir* to point to a valid directory where to save the generated files."
      ]
    },
    {
      "cell_type": "code",
      "metadata": {
        "id": "pqQ3yt990gbr",
        "colab_type": "code",
        "colab": {}
      },
      "source": [
        "from google.colab import drive\n",
        "drive.mount('/content/gdrive')"
      ],
      "execution_count": 0,
      "outputs": []
    },
    {
      "cell_type": "code",
      "metadata": {
        "id": "V9R30XfD0iBl",
        "colab_type": "code",
        "colab": {}
      },
      "source": [
        "# Default dir\n",
        "rootDir = \"/content/gdrive/My\\ Drive/FYP\"\n",
        "!mkdir rootDir"
      ],
      "execution_count": 0,
      "outputs": []
    },
    {
      "cell_type": "markdown",
      "metadata": {
        "id": "dFkVjmzob0e4",
        "colab_type": "text"
      },
      "source": [
        "# Clone Pix2Pix and install requirements\n",
        "Download the latest available adapted Pix2Pix implementation, and install any requirements."
      ]
    },
    {
      "cell_type": "code",
      "metadata": {
        "id": "klcTePqIHoEn",
        "colab_type": "code",
        "colab": {}
      },
      "source": [
        "# Clone code\n",
        "branch = 'master'\n",
        "print(\"Cloning branch %s\" % branch)\n",
        "!git clone --single-branch --branch $branch https://github.com/jsanmigimeno/FYP-Pix2Pix.git\n",
        "  \n",
        "# Install requirements\n",
        "%cd FYP-Pix2Pix\n",
        "!pip install -r requirements.txt"
      ],
      "execution_count": 0,
      "outputs": []
    },
    {
      "cell_type": "markdown",
      "metadata": {
        "id": "KpcEaH8L91P6",
        "colab_type": "text"
      },
      "source": [
        "## Update Local Code\n",
        "If desired, download a new version of the code without deleting any downloaded datasets"
      ]
    },
    {
      "cell_type": "code",
      "metadata": {
        "colab_type": "code",
        "id": "wgFgw_dXBX4b",
        "colab": {}
      },
      "source": [
        "print(\"Updating code from branch %s\" % branch)\n",
        "% cd ..\n",
        "# Move dataset folder outside code directory\n",
        "!mv ./FYP-Pix2Pix/DatasetsData ./\n",
        "# Remove code directory\n",
        "!rm -rf FYP-Pix2Pix/\n",
        "# Clone new code\n",
        "!git clone --single-branch --branch $branch https://github.com/jsanmigimeno/FYP-Pix2Pix.git\n",
        "# Move dataset folder back into code directory\n",
        "!mv ./DatasetsData ./FYP-Pix2Pix\n",
        "%cd FYP-Pix2Pix"
      ],
      "execution_count": 0,
      "outputs": []
    },
    {
      "cell_type": "markdown",
      "metadata": {
        "id": "eJJn7KLAnOrB",
        "colab_type": "text"
      },
      "source": [
        "# Get dataset and set network models paths\n",
        "Download dataset and set urls to pre-trained model. If using a custom trained model, add url to the saved model as a new entry on the *modelPaths* variable, together with the epoch number of the saved model."
      ]
    },
    {
      "cell_type": "code",
      "metadata": {
        "id": "aimR4WU487nd",
        "colab_type": "code",
        "colab": {}
      },
      "source": [
        "# Download dataset\n",
        "dataset = 'DSLog'  # 'Downscaled_All_JPEG' or 'DSLog'\n",
        "\n",
        "!mkdir ./DatasetsData/\n",
        "!python ./scripts/DatasetURLs.py -p './DatasetsData/' -d $dataset"
      ],
      "execution_count": 0,
      "outputs": []
    },
    {
      "cell_type": "code",
      "metadata": {
        "id": "kL4bhyGKwVqn",
        "colab_type": "code",
        "colab": {}
      },
      "source": [
        "# Pre trained models\n",
        "modelPaths = {\n",
        "    \n",
        "## Baseline models\n",
        "    'Baseline'             : (181, 'https://imperiallondon-my.sharepoint.com/:u:/g/personal/js5415_ic_ac_uk/EYrjP7urXEJFqg70-aFY4dABo5xj140jvlfJ8iC1pD_jQg?download=1'),\n",
        "    'BaselineOnlyGAN'      : (160, 'https://imperiallondon-my.sharepoint.com/:u:/g/personal/js5415_ic_ac_uk/EXcK5lJTWwNLqX-4nTbRnbUBGz-Y-Pexr-yEeAke7YxBwQ?download=1'),\n",
        "    'BaselineOnlyL1'       : (175, 'https://imperiallondon-my.sharepoint.com/:u:/g/personal/js5415_ic_ac_uk/ET0Bitm4Y1hDkzSI8TpX6OMBSB34bTgQZAP1MCFWIPEq1A?download=1'),\n",
        "    'BaselineOnLog'        : (168, 'https://imperiallondon-my.sharepoint.com/:u:/g/personal/js5415_ic_ac_uk/EWz7vp9buCdAmjvEw8hLRFoBSaSos3Z2pn_Ua4pWQnQoow?download=1'),\n",
        "    \n",
        "## Descriptor models\n",
        "    # SIFT descriptor\n",
        "    'DescriptorSIFT100'    : (188, 'https://imperiallondon-my.sharepoint.com/:u:/g/personal/js5415_ic_ac_uk/EUBShr3HezBMm1pOQrSw330B6Cqml5Id8l85Wj2mzk4J5w?download=1'),\n",
        "    \n",
        "    # HardNet descriptor\n",
        "    'Descriptor100'        : (117, 'https://imperiallondon-my.sharepoint.com/:u:/g/personal/js5415_ic_ac_uk/EcF4f-YVY5ZNm-ilndb0evQB2qTNUj5bPQ8QsfZrA2YqUg?download=1'),\n",
        "    'Descriptor150'        : (186, 'https://imperiallondon-my.sharepoint.com/:u:/g/personal/js5415_ic_ac_uk/EXaY5sbKGLVOhsMLEQNBdnIBnZiuvbtkGdpVG_u0OJQzcw?download=1'),\n",
        "    'Descriptor200'        : (195, 'https://imperiallondon-my.sharepoint.com/:u:/g/personal/js5415_ic_ac_uk/EaArj8lG-uRDgfBiwyPJQ5wB-Lz-E6Fxq2LZCibOmzW0Xg?download=1'),\n",
        "    'Descriptor300'        : (181, 'https://imperiallondon-my.sharepoint.com/:u:/g/personal/js5415_ic_ac_uk/EVwoo5GsGpVCuK2PmKqUFikBQl0gEEirS62wReACixD9Zw?download=1'),\n",
        "    \n",
        "    # HardNet and GAN only (no L1)\n",
        "    'DescriptorGAN100'     : (34,  'https://imperiallondon-my.sharepoint.com/:u:/g/personal/js5415_ic_ac_uk/ES9Je9a-bsdOrlR-_dJeVPgBYfCDiZOPP0KTx6p-Q4jy3g?download=1'),\n",
        "    \n",
        "    # Experiments: RGB patches (C) and No empty patches (NEP)\n",
        "    'Descriptor100C'       : (91,  'https://imperiallondon-my.sharepoint.com/:u:/g/personal/js5415_ic_ac_uk/EQ5rZuYcHPdLuqSuVEHgJVoBmrrMPLmGgjqgK_zyK2Qlzw?download=1'),\n",
        "    'Descriptor100NEP'     : (168, 'https://imperiallondon-my.sharepoint.com/:u:/g/personal/js5415_ic_ac_uk/EQXpCJNcGL1GswwuAzQjNf8B9fSbSwVMNyNWRswR5FMg1g?download=1'),\n",
        "    \n",
        "    # Trained on log transformed dataset\n",
        "    'DescriptorOnLog100'   : (86,  'https://imperiallondon-my.sharepoint.com/:u:/g/personal/js5415_ic_ac_uk/Ea0UrCiTv3BPsX8Tmuy_5n0Bh6nP-hC7IGVGUnB9uOfbLA?download=1'),\n",
        "    'DescriptorOnLog200'   : (184, 'https://imperiallondon-my.sharepoint.com/:u:/g/personal/js5415_ic_ac_uk/EX_uVL0laIpKiDVsMXrx-WIBGhxyb4NGsYS4-obJvwmz0Q?download=1'),\n",
        "    'DescriptorOnLog300'   : (166, 'https://imperiallondon-my.sharepoint.com/:u:/g/personal/js5415_ic_ac_uk/Ed5bQgQiWZNHpl0kHrbJWt4B72RooWG3GnhWkQd9rk-HVg?download=1'),\n",
        "    'DescriptorOnLog400'   : (120, 'https://imperiallondon-my.sharepoint.com/:u:/g/personal/js5415_ic_ac_uk/EaR3ackaONdEkErjD2h2F-UB06ACBzUz1lTFnT-h_VAhuQ?download=1'),\n",
        "    'DescriptorOnLog500'   : (114, 'https://imperiallondon-my.sharepoint.com/:u:/g/personal/js5415_ic_ac_uk/Ecbh7cLnAkVDh9wHVTPH9eAB4uq9gSkC1lr-dRRWYlhwTw?download=1'),\n",
        "    \n",
        "## Siamese models\n",
        "    # SIFT descriptor\n",
        "    'SiameseSIFT100'       : (145, 'https://imperiallondon-my.sharepoint.com/:u:/g/personal/js5415_ic_ac_uk/Ea1QkcT4SoBHv2V99laCU6UBTjaPaEih81m1eSdWZXAY_w?download=1'),\n",
        "    \n",
        "    # HardNet descriptor\n",
        "    'Siamese100'           : (172, 'https://imperiallondon-my.sharepoint.com/:u:/g/personal/js5415_ic_ac_uk/EbJ6gPF-FxBAs-X68cpLiZYBjd287IE6M3Ahj7L8eS8K_g?download=1'),\n",
        "    \n",
        "    # HardNet and GAN only (no L1)\n",
        "    'SiameseGAN100'        : (187, 'https://imperiallondon-my.sharepoint.com/:u:/g/personal/js5415_ic_ac_uk/EYszxKPXmJBJow4_Tf3npKwBOai_E8TK7-YcA-WDGV7R4Q?download=1'),\n",
        "    \n",
        "    # Experiments: RGB patches (C)\n",
        "    'Siamese100C'          : (192, 'https://imperiallondon-my.sharepoint.com/:u:/g/personal/js5415_ic_ac_uk/EVlyvOFGK95Hk_8ANQE8LjEB4lC9z5eLoU0ZeX2NfstArQ?download=1'),\n",
        "    \n",
        "    # Trained on log transformed dataset\n",
        "    'SiameseOnLog100'      : (193, 'https://imperiallondon-my.sharepoint.com/:u:/g/personal/js5415_ic_ac_uk/EdIIXgYJdptPmNBiJJjub_YBL1fI2FUs61ZyNzAdFZjEUQ?download=1'),\n",
        "    'SiameseOnLog200'      : (195, 'https://imperiallondon-my.sharepoint.com/:u:/g/personal/js5415_ic_ac_uk/EQbt6u9uTs5HoeVmwUhPp4wBxFzH0f1NjpdI6HQw5CaAiA?download=1'),\n",
        "    'SiameseOnLog300'      : (195, 'https://imperiallondon-my.sharepoint.com/:u:/g/personal/js5415_ic_ac_uk/ETH9Q5g6pqhDthSQ-ChknzUB0PMNN-OIh7KPkDPEgzpXLw?download=1'),\n",
        "    'SiameseOnLog400'      : (197, 'https://imperiallondon-my.sharepoint.com/:u:/g/personal/js5415_ic_ac_uk/ET19_3Pajl9AnjMqQLc-v1oBRffm5JZjd_cv3dpnQAEZPg?download=1'),\n",
        "    'SiameseOnLog500'      : (161, 'https://imperiallondon-my.sharepoint.com/:u:/g/personal/js5415_ic_ac_uk/EVDyuEhobTJMh28wb4o670cBaSroaTpC19S2SrkoLEVj5w?download=1'),\n",
        "    'SiameseOnLog100C'     : (113, 'https://imperiallondon-my.sharepoint.com/:u:/g/personal/js5415_ic_ac_uk/EZQzcTMesaFKiaOkAtmkouwB8OVPeQShb8tgb18q5l4_mA?download=1'),\n",
        "}"
      ],
      "execution_count": 0,
      "outputs": []
    },
    {
      "cell_type": "markdown",
      "metadata": {
        "id": "uLN6FM8qpjCU",
        "colab_type": "text"
      },
      "source": [
        "# Test"
      ]
    },
    {
      "cell_type": "code",
      "metadata": {
        "id": "gtsaallbY1K-",
        "colab_type": "code",
        "colab": {}
      },
      "source": [
        "from util.GDDownload import download_from_gd as dgd\n",
        "from util.OneDownload import download_from_onedrive as dod\n",
        "import os\n",
        "\n",
        "def paramsListToString(paramsList):\n",
        "  m = \"\"\n",
        "  for param in paramsList:\n",
        "    m += str(param) + \" \"\n",
        "  return m"
      ],
      "execution_count": 0,
      "outputs": []
    },
    {
      "cell_type": "code",
      "metadata": {
        "id": "ooMFHrN8dkX2",
        "colab_type": "code",
        "colab": {}
      },
      "source": [
        "modelNames = ['Baseline']\n",
        "  \n",
        "bypassInference = False  # Bypass inference (to obtain metrics from unmodified dataset)\n",
        "  \n",
        "for name in modelNames:\n",
        "  epoch = modelPaths[name][0]\n",
        "  url = modelPaths[name][1]\n",
        "  !mkdir $name\n",
        "  modelFolder = './' + name\n",
        "  modelPath = name + '/' + str(epoch) + '_net_G.pth'\n",
        "\n",
        "  if os.path.isfile(modelPath):\n",
        "    print(\"File already on disk, skipping download\")\n",
        "  else:\n",
        "    print(\"Downloading file....\")\n",
        "    if 'google' in url:\n",
        "      dgd(url, modelPath)\n",
        "    else:\n",
        "      dod(url, modelPath)\n",
        "    print(\"Finished downloading\")\n",
        "\n",
        "  # Parameters\n",
        "  testParams = [\n",
        "      # Basic model parameters\n",
        "      \"--model\", \"pix2pix\",                           # Model pix2pix\n",
        "      \"--checkpoints_dir\", './',                      # Path to load checkpoints from\n",
        "      \"--results_dir\",  rootDir+'/Results_'+dataset,  # Path to which save results\n",
        "      \"--dataroot\", './DatasetsData/' + dataset,      # Dataset path\n",
        "      \"--name\", name,                                 # Training name\n",
        "      \"--use_detector\",\n",
        "      \"--num_points\", 1024,\n",
        "\n",
        "      # Dataset parameters\n",
        "      \"--dataset_mode\", \"aligned\",                    # Aligned dataset mode (AB concatenated)\n",
        "      \"--load_size\", 2048,                            # Resolution to which load images with (width) (default: 2120)\n",
        "      \"--crop_size\", 2048,                            # default: 2120\n",
        "      \"--aspect_ratio\", 1.4971751412,                 # Output images aspect ratio\n",
        "      \"--save_fake_only\",\n",
        "      #\"--dataset_split\", './split.csv',\n",
        "      #\"--log_trans\",\n",
        "\n",
        "      # Test parameters\n",
        "      \"--num_test\", 598,                              # Number of test images to process (test size: 598)\n",
        "      \"--epoch\", epoch,                               # Epoch to load\n",
        "  ]\n",
        "  \n",
        "  if bypassInference:\n",
        "    testParams = testParams + [\"--bypass_inference\"]\n",
        "\n",
        "  testParamsString = paramsListToString(testParams)\n",
        "\n",
        "  !python test.py $testParamsString"
      ],
      "execution_count": 0,
      "outputs": []
    },
    {
      "cell_type": "markdown",
      "metadata": {
        "id": "Zxj3sO5KJn4Y",
        "colab_type": "text"
      },
      "source": [
        "# Zip results"
      ]
    },
    {
      "cell_type": "code",
      "metadata": {
        "id": "UJk78liNJ13i",
        "colab_type": "code",
        "colab": {}
      },
      "source": [
        "%cd /content/gdrive/My\\ Drive/FYP/Results\n",
        "for name in modelNames:\n",
        "  saveName = name + '.zip'\n",
        "  print(\"Zipping %s\" % saveName)\n",
        "  !zip -r $saveName $name\n",
        "%cd /content/FYP-Pix2Pix/"
      ],
      "execution_count": 0,
      "outputs": []
    }
  ]
}